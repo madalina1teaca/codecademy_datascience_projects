{
 "cells": [
  {
   "cell_type": "markdown",
   "id": "bf6097a2",
   "metadata": {},
   "source": [
    "## Basta Fazzolin'\n",
    "#### CodeCademy Projects\n"
   ]
  },
  {
   "cell_type": "markdown",
   "id": "c6fc37e2",
   "metadata": {},
   "source": [
    "You’ve started a position as the lead programmer for the family-style Italian restaurant Basta Fazoolin’ with My Heart. The restaurant has been doing fantastically and seen a lot of growth lately. You’ve been hired to keep things organized."
   ]
  },
  {
   "cell_type": "markdown",
   "id": "d25a4a21",
   "metadata": {},
   "source": [
    "### Making the Menus"
   ]
  },
  {
   "cell_type": "markdown",
   "id": "bce06dfe",
   "metadata": {},
   "source": [
    "At *Basta Fazoolin’ with my Heart* our motto is simple: when you’re here with family, that’s great! We have four different menus: brunch, early-bird, dinner, and kids.\n",
    "\n",
    "- Create a `Menu` class .\n",
    "- Give `Menu` a constructor with the five parameters `self`, `name`, `items`, `start_time`, and `end_time`.\n",
    "\n",
    "- Let’s create our first menu: `brunch`. Brunch is served from 11am to 4pm. The following items are sold during brunch:\n",
    "```{'pancakes': 7.50, 'waffles': 9.00, 'burger': 11.00, 'home fries': 4.50, 'coffee': 1.50, 'espresso': 3.00, 'tea': 1.00, 'mimosa': 10.50, 'orange juice': 3.50}```\n",
    "\n",
    "- Let’s create our second menu item `early_bird`. Early-bird Dinners are served from 3pm to 6pm. The following items are available during the early-bird menu:\n",
    "```{  'salumeria plate': 8.00, 'salad and breadsticks (serves 2, no refills)': 14.00, 'pizza with quattro formaggi': 9.00, 'duck ragu': 17.50, 'mushroom ravioli (vegan)': 13.50, 'coffee': 1.50, 'espresso': 3.00}```\n",
    "\n",
    "- Let’s create our third menu, `dinner`. Dinner is served from 5pm to 11pm. The following items are available for dinner:\n",
    "```{  'crostini with eggplant caponata': 13.00, 'caesar salad': 16.00, 'pizza with quattro formaggi': 11.00, 'duck ragu': 19.50, 'mushroom ravioli (vegan)': 13.50, 'coffee': 2.00, 'espresso': 3.00}```\n",
    "\n",
    "- And let’s create our last menu, `kids`. The kids menu is available from 11am until 9pm. The following items are available on the kids menu.\n",
    "```{ 'chicken nuggets': 6.50, 'fusilli with wild mushrooms': 12.00, 'apple juice': 3.00}```\n",
    "\n",
    "\n",
    "- Give our `Menu` class a string representation method that will tell you the `name` of the menu. Also, indicate in this representation when the menu is available.\n",
    "\n",
    "\n",
    "- Give Menu a method `.calculate_bill()` that has two parameters: `self`, and `purchased_items`, a list of the names of purchased items. Have `calculate_bill` return the total price of a purchase consisting of all the items in `purchased_items`.\n"
   ]
  },
  {
   "cell_type": "markdown",
   "id": "47f50a3c",
   "metadata": {},
   "source": [
    "### Menu"
   ]
  },
  {
   "cell_type": "code",
   "execution_count": 86,
   "id": "8ad11534",
   "metadata": {},
   "outputs": [],
   "source": [
    "class Menu:\n",
    "    def __init__(self, name, items, start_time, end_time):\n",
    "        self.name = name\n",
    "        self.items = items\n",
    "        self.start_time = start_time\n",
    "        self.end_time = end_time\n",
    "        \n",
    "    def __repr__(self):\n",
    "        return  self.name + ' menu available from ' + self.start_time + ' to ' + self.end_time\n",
    "    \n",
    "    def calculate_bill(self, purchase_items):\n",
    "        bill = 0\n",
    "        for item in purchase_items:\n",
    "            if item in self.items:\n",
    "                bill += self.items[item]\n",
    "            else:\n",
    "                return item + ' - not found on the menu'\n",
    "        return bill"
   ]
  },
  {
   "cell_type": "markdown",
   "id": "4f14b591",
   "metadata": {},
   "source": [
    "***Brunch Menu***"
   ]
  },
  {
   "cell_type": "code",
   "execution_count": 87,
   "id": "1f011476",
   "metadata": {},
   "outputs": [],
   "source": [
    "brunch_items = {     \n",
    "    'pancakes': 7.50, \n",
    "    'waffles': 9.00, \n",
    "    'burger': 11.00, \n",
    "    'home fries': 4.50,     \n",
    "    'coffee': 1.50, \n",
    "    'espresso': 3.00, \n",
    "    'tea': 1.00, \n",
    "    'mimosa': 10.50, \n",
    "    'orange juice': 3.50 \n",
    "}\n",
    "\n",
    "brunch = Menu('Brunch', brunch_items, '11am', '4pm')"
   ]
  },
  {
   "cell_type": "markdown",
   "id": "88506319",
   "metadata": {},
   "source": [
    "***Early Bird Menu***"
   ]
  },
  {
   "cell_type": "code",
   "execution_count": 88,
   "id": "566b833b",
   "metadata": {},
   "outputs": [],
   "source": [
    "early_bird_items = {\n",
    "    'salumeria plate': 8.00, \n",
    "    'salad and breadsticks (serves 2, no refills)': 14.00, \n",
    "    'pizza with quattro formaggi': 9.00, \n",
    "    'duck ragu': 17.50, \n",
    "    'mushroom ravioli (vegan)': 13.50, \n",
    "    'coffee': 1.50, 'espresso': 3.00 \n",
    "}\n",
    "\n",
    "early_bird = Menu('Early Bird', early_bird_items, '3pm', '6pm')"
   ]
  },
  {
   "cell_type": "markdown",
   "id": "8d224643",
   "metadata": {},
   "source": [
    "***Dinner Menu***"
   ]
  },
  {
   "cell_type": "code",
   "execution_count": 89,
   "id": "0e2c7a4c",
   "metadata": {},
   "outputs": [],
   "source": [
    "dinner_items = {\n",
    "    'crostini with eggplant caponata': 13.00, \n",
    "    'caesar salad': 16.00, \n",
    "    'pizza with quattro formaggi': 11.00, \n",
    "    'duck ragu': 19.50, \n",
    "    'mushroom ravioli (vegan)': 13.50, \n",
    "    'coffee': 2.00, \n",
    "    'espresso': 3.00\n",
    "}\n",
    "\n",
    "dinner = Menu('Dinner', dinner_items, '5pm', '11pm')"
   ]
  },
  {
   "cell_type": "markdown",
   "id": "2566882c",
   "metadata": {},
   "source": [
    "***Kids Menu***"
   ]
  },
  {
   "cell_type": "code",
   "execution_count": 90,
   "id": "8722736c",
   "metadata": {},
   "outputs": [],
   "source": [
    "kids_items = {   \n",
    "    'chicken nuggets': 6.50, \n",
    "    'fusilli with wild mushrooms': 12.00, \n",
    "    'apple juice': 3.00 \n",
    "}\n",
    "\n",
    "kids = Menu('Kids Menu', kids_items, '11am', '9pm')"
   ]
  },
  {
   "cell_type": "markdown",
   "id": "8298ebc4",
   "metadata": {},
   "source": [
    "**Tests**"
   ]
  },
  {
   "cell_type": "markdown",
   "id": "b668bbb7",
   "metadata": {},
   "source": [
    "- Try out our string representation. If you call print(brunch) it should print out something like the following:\n",
    "`brunch menu available from 11am to 4pm`"
   ]
  },
  {
   "cell_type": "code",
   "execution_count": 91,
   "id": "6d28b660",
   "metadata": {},
   "outputs": [
    {
     "data": {
      "text/plain": [
       "Brunch menu available from 11am to 4pm"
      ]
     },
     "execution_count": 91,
     "metadata": {},
     "output_type": "execute_result"
    }
   ],
   "source": [
    "brunch"
   ]
  },
  {
   "cell_type": "markdown",
   "id": "f21eb249",
   "metadata": {},
   "source": [
    "- Test out `Menu.calculate_bill()`. We have a breakfast order for one order of pancakes, one order of home fries, and one coffee. Pass that into `brunch.calculate_bill()` and print out the price."
   ]
  },
  {
   "cell_type": "code",
   "execution_count": 92,
   "id": "605de8b8",
   "metadata": {},
   "outputs": [
    {
     "data": {
      "text/plain": [
       "13.5"
      ]
     },
     "execution_count": 92,
     "metadata": {},
     "output_type": "execute_result"
    }
   ],
   "source": [
    "brunch.calculate_bill(['pancakes', 'home fries', 'coffee'])"
   ]
  },
  {
   "cell_type": "markdown",
   "id": "db32b5ab",
   "metadata": {},
   "source": [
    "- What about an early-bird purchase? Our last guests ordered the salumeria plate and the vegan mushroom ravioli. Calculate the bill with `.calculate_bill()`."
   ]
  },
  {
   "cell_type": "code",
   "execution_count": 93,
   "id": "3167d48d",
   "metadata": {},
   "outputs": [
    {
     "data": {
      "text/plain": [
       "21.5"
      ]
     },
     "execution_count": 93,
     "metadata": {},
     "output_type": "execute_result"
    }
   ],
   "source": [
    "early_bird.calculate_bill(['salumeria plate', 'mushroom ravioli (vegan)'])"
   ]
  },
  {
   "cell_type": "markdown",
   "id": "a588ec29",
   "metadata": {},
   "source": [
    "### Creating the Franchises"
   ]
  },
  {
   "cell_type": "markdown",
   "id": "8cef2597",
   "metadata": {},
   "source": [
    "Basta Fazoolin’ with my Heart has seen tremendous success with the family market, which is fantastic because when you’re at Basta Fazoolin’ with my Heart with family, that’s great!\n",
    "\n",
    "We’ve decided to create more than one restaurant to offer our fantastic menus, services, and ambience around the country.\n",
    "\n",
    "- First, let’s create a `Franchise` class.\n",
    "- Give the `Franchise` class a constructor. Take in an `address`, and assign it to `self.address`. Also take in a list of `menus` and assign it to `self.menus`.\n",
    "- Give our `Franchises` a string representation so that we’ll be able to tell them apart. If we print out a `Franchise` it should tell us the address of the restaurant.\n",
    "- Let’s tell our customers what they can order! Give `Franchise` an `.available_menus()` method that takes in a time parameter and returns a list of the `Menu` objects that are available at that time."
   ]
  },
  {
   "cell_type": "code",
   "execution_count": 109,
   "id": "5608ac0d",
   "metadata": {},
   "outputs": [
    {
     "data": {
      "text/plain": [
       "14"
      ]
     },
     "execution_count": 109,
     "metadata": {},
     "output_type": "execute_result"
    }
   ],
   "source": [
    "def get_time(time):\n",
    "    if time[-2:] == \"am\" or time[-2:] == \"pm\" and time[:2].isnumeric() or time[:1].isnumeric():\n",
    "        if(time[-2:] == \"pm\"):\n",
    "            if(time[:2].isnumeric()):\n",
    "                return int(time[:2]) + 12\n",
    "            return int(time[:1]) + 12\n",
    "        return int(time[:2])\n",
    "    return(\"Wrong formated time\")\n",
    "get_time(\"2pm\")"
   ]
  },
  {
   "cell_type": "code",
   "execution_count": 110,
   "id": "a591a69a",
   "metadata": {},
   "outputs": [],
   "source": [
    "def get_menus(time):\n",
    "    menus = []\n",
    "    if(11 < time < 16):\n",
    "        menus.append('Brunch')\n",
    "    if(15 < time < 18):\n",
    "        menus.append('Early Bird')\n",
    "    if(17 < time < 23):\n",
    "        menus.append('Dinner')\n",
    "    if(11 < time < 21):\n",
    "        menus.append('Kids')\n",
    "    return menus"
   ]
  },
  {
   "cell_type": "code",
   "execution_count": 111,
   "id": "a544a47d",
   "metadata": {},
   "outputs": [],
   "source": [
    "class Franchise:\n",
    "    def __init__ (self, adress, menus):\n",
    "        self.adress = adress\n",
    "        self.menus = menus\n",
    "    \n",
    "    def __repr__(self):\n",
    "        return self.adress\n",
    "    \n",
    "    def available_menus(time):\n",
    "        time = get_time(time)\n",
    "        menus = get_menus(time)\n",
    "        return menus"
   ]
  },
  {
   "cell_type": "markdown",
   "id": "3e992142",
   "metadata": {},
   "source": []
  },
  {
   "cell_type": "markdown",
   "id": "191e0b28",
   "metadata": {},
   "source": [
    "***Create franchises***"
   ]
  },
  {
   "cell_type": "markdown",
   "id": "e26b2cac",
   "metadata": {},
   "source": [
    " - Let’s create our first two franchises! Our flagship store is located at `\"1232 West End Road\"` and our new installment is located at `\"12 East Mulberry Street\"`. Pass in all four menus along with these addresses to define `flagship_store` and `new_installment`."
   ]
  },
  {
   "cell_type": "code",
   "execution_count": null,
   "id": "8ad23ada",
   "metadata": {},
   "outputs": [],
   "source": [
    "flagship_store = Franchise('1232 West End Road', [brunch, early_bird, dinner, kids])\n",
    "new_installment = Franchise('12 East Mulberry Street', [brunch, early_bird, dinner, kids])"
   ]
  },
  {
   "cell_type": "markdown",
   "id": "6ad8bc5d",
   "metadata": {},
   "source": []
  },
  {
   "cell_type": "code",
   "execution_count": null,
   "id": "57bfa7ba",
   "metadata": {},
   "outputs": [],
   "source": []
  },
  {
   "cell_type": "markdown",
   "id": "d6b46202",
   "metadata": {},
   "source": [
    "Let’s test out our `.available_menus()` method! Call it with 12 noon as an argument and print out the results."
   ]
  },
  {
   "cell_type": "code",
   "execution_count": null,
   "id": "5ddc2f25",
   "metadata": {},
   "outputs": [],
   "source": []
  },
  {
   "cell_type": "markdown",
   "id": "3b6b8f6c",
   "metadata": {},
   "source": [
    "Let’s do another test! See what is printed if we call `.available_menus()` with 5pm as an argument and print out the results."
   ]
  },
  {
   "cell_type": "code",
   "execution_count": null,
   "id": "666a28a5",
   "metadata": {},
   "outputs": [],
   "source": []
  },
  {
   "cell_type": "markdown",
   "id": "32b51ef5",
   "metadata": {},
   "source": [
    "### Creating Bussinesses"
   ]
  },
  {
   "cell_type": "markdown",
   "id": "364e390f",
   "metadata": {},
   "source": [
    "Since we’ve been so successful building out a branded chain of restaurants, we’ve decided to diversify. We’re going to create a restaurant that sells arepas!\n",
    "\n",
    "First let’s define a `Business` class."
   ]
  },
  {
   "cell_type": "code",
   "execution_count": null,
   "id": "834c1620",
   "metadata": {},
   "outputs": [],
   "source": []
  },
  {
   "cell_type": "markdown",
   "id": "2de739b8",
   "metadata": {},
   "source": [
    "Give `Business` a constructor. A `Business` needs a `name` and a list of franchises."
   ]
  },
  {
   "cell_type": "code",
   "execution_count": null,
   "id": "10e79c36",
   "metadata": {},
   "outputs": [],
   "source": []
  },
  {
   "cell_type": "markdown",
   "id": "92fd8367",
   "metadata": {},
   "source": [
    "Let’s create our first `Business`. The name is `\"Basta Fazoolin' with my Heart\"` and the two franchises are `flagship_store` and `new_installment`."
   ]
  },
  {
   "cell_type": "code",
   "execution_count": null,
   "id": "b6c811c6",
   "metadata": {},
   "outputs": [],
   "source": []
  },
  {
   "cell_type": "markdown",
   "id": "a2489e5c",
   "metadata": {},
   "source": [
    "Before we create our new business, we’ll need a `Franchise` and before our `Franchise` we’ll need a menu. The items for our *Take a’ Arepa* available from 10am until 8pm are the following:\n",
    "`{\n",
    "  'arepa pabellon': 7.00, 'pernil arepa': 8.50, 'guayanes arepa': 8.00, 'jamon arepa': 7.50\n",
    "}`\n",
    "Save this to a variable called `arepas_menu`."
   ]
  },
  {
   "cell_type": "code",
   "execution_count": null,
   "id": "1f732926",
   "metadata": {},
   "outputs": [],
   "source": []
  },
  {
   "cell_type": "markdown",
   "id": "cd20a0f7",
   "metadata": {},
   "source": [
    "Next let’s create our first *Take a’ Arepa* franchise! Our new restaurant is located at `\"189 Fitzgerald Avenue\"`. Save the `Franchise` object to a variable called `arepas_place`."
   ]
  },
  {
   "cell_type": "code",
   "execution_count": null,
   "id": "b87d8f4d",
   "metadata": {},
   "outputs": [],
   "source": []
  },
  {
   "cell_type": "markdown",
   "id": "a3745b24",
   "metadata": {},
   "source": [
    "Now let’s make our new `Business`! The business is called `\"Take a' Arepa\"`!"
   ]
  },
  {
   "cell_type": "code",
   "execution_count": null,
   "id": "9e8bed95",
   "metadata": {},
   "outputs": [],
   "source": []
  }
 ],
 "metadata": {
  "kernelspec": {
   "display_name": "Python 3 (ipykernel)",
   "language": "python",
   "name": "python3"
  },
  "language_info": {
   "codemirror_mode": {
    "name": "ipython",
    "version": 3
   },
   "file_extension": ".py",
   "mimetype": "text/x-python",
   "name": "python",
   "nbconvert_exporter": "python",
   "pygments_lexer": "ipython3",
   "version": "3.10.9"
  }
 },
 "nbformat": 4,
 "nbformat_minor": 5
}
